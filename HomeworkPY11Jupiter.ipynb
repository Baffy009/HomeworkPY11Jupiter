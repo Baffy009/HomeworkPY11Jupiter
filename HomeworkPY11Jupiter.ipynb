{
 "cells": [
  {
   "cell_type": "markdown",
   "id": "a2a1effb",
   "metadata": {},
   "source": [
    "## f(x) = (sin(x)/2 + cos(x)/2) ** 2 * sin(x)\n",
    "\n",
    "1. Определить корни\n",
    "\n",
    "2. Найти интервалы, на которых функция возрастает\n",
    "\n",
    "3. Найти интервалы, на которых функция убывает\n",
    "\n",
    "4. Построить график\n",
    "\n",
    "5. Вычислить вершину\n",
    "\n",
    "6. Определить промежутки, на котором f > 0\n",
    "\n",
    "7. Определить промежутки, на котором f < 0"
   ]
  },
  {
   "cell_type": "code",
   "execution_count": 1,
   "id": "982dcf50",
   "metadata": {},
   "outputs": [],
   "source": [
    "from sympy import *"
   ]
  },
  {
   "cell_type": "code",
   "execution_count": 2,
   "id": "2f2d6a68",
   "metadata": {},
   "outputs": [],
   "source": [
    "x = Symbol('x')"
   ]
  },
  {
   "cell_type": "code",
   "execution_count": 3,
   "id": "6f60167c",
   "metadata": {},
   "outputs": [
    {
     "data": {
      "text/latex": [
       "$\\displaystyle \\left(\\frac{\\sin{\\left(x \\right)}}{2} + \\frac{\\cos{\\left(x \\right)}}{2}\\right)^{2} \\sin{\\left(x \\right)}$"
      ],
      "text/plain": [
       "(sin(x)/2 + cos(x)/2)**2*sin(x)"
      ]
     },
     "execution_count": 3,
     "metadata": {},
     "output_type": "execute_result"
    }
   ],
   "source": [
    "function = (sin(x)/2 + cos(x)/2) ** 2 * sin(x)\n",
    "function"
   ]
  },
  {
   "cell_type": "markdown",
   "id": "c6089e05",
   "metadata": {},
   "source": [
    "# 1. Определение корней:"
   ]
  },
  {
   "cell_type": "code",
   "execution_count": 4,
   "id": "bb6126a5",
   "metadata": {},
   "outputs": [
    {
     "data": {
      "text/latex": [
       "$\\displaystyle \\left\\{2 n \\pi\\; \\middle|\\; n \\in \\mathbb{Z}\\right\\} \\cup \\left\\{2 n \\pi + \\pi\\; \\middle|\\; n \\in \\mathbb{Z}\\right\\} \\cup \\left\\{2 n \\pi + \\frac{3 \\pi}{4}\\; \\middle|\\; n \\in \\mathbb{Z}\\right\\} \\cup \\left\\{2 n \\pi + \\frac{7 \\pi}{4}\\; \\middle|\\; n \\in \\mathbb{Z}\\right\\}$"
      ],
      "text/plain": [
       "Union(ImageSet(Lambda(_n, 2*_n*pi + 3*pi/4), Integers), ImageSet(Lambda(_n, 2*_n*pi + 7*pi/4), Integers), ImageSet(Lambda(_n, 2*_n*pi + pi), Integers), ImageSet(Lambda(_n, 2*_n*pi), Integers))"
      ]
     },
     "execution_count": 4,
     "metadata": {},
     "output_type": "execute_result"
    }
   ],
   "source": [
    "solveset(function, x)"
   ]
  },
  {
   "cell_type": "markdown",
   "id": "a6699a69",
   "metadata": {},
   "source": [
    "*Вычисление производной:*"
   ]
  },
  {
   "cell_type": "code",
   "execution_count": 5,
   "id": "aab55512",
   "metadata": {},
   "outputs": [
    {
     "data": {
      "text/latex": [
       "$\\displaystyle \\left(- \\sin{\\left(x \\right)} + \\cos{\\left(x \\right)}\\right) \\left(\\frac{\\sin{\\left(x \\right)}}{2} + \\frac{\\cos{\\left(x \\right)}}{2}\\right) \\sin{\\left(x \\right)} + \\left(\\frac{\\sin{\\left(x \\right)}}{2} + \\frac{\\cos{\\left(x \\right)}}{2}\\right)^{2} \\cos{\\left(x \\right)}$"
      ],
      "text/plain": [
       "(-sin(x) + cos(x))*(sin(x)/2 + cos(x)/2)*sin(x) + (sin(x)/2 + cos(x)/2)**2*cos(x)"
      ]
     },
     "execution_count": 5,
     "metadata": {},
     "output_type": "execute_result"
    }
   ],
   "source": [
    "pro = diff(function)\n",
    "pro"
   ]
  },
  {
   "cell_type": "markdown",
   "id": "0e739bfd",
   "metadata": {},
   "source": [
    "*Определение корней производной:*"
   ]
  },
  {
   "cell_type": "code",
   "execution_count": 6,
   "id": "cfc923f1",
   "metadata": {},
   "outputs": [
    {
     "data": {
      "text/plain": [
       "[-pi/4,\n",
       " 3*pi/4,\n",
       " -2*atan(-3/2 + sqrt(6)*sqrt(5 - sqrt(17))/2 + sqrt(17)/2),\n",
       " 2*atan(3/2 + sqrt(17)/2 + sqrt(6)*sqrt(sqrt(17) + 5)/2),\n",
       " 2*atan(-sqrt(17)/2 + sqrt(6)*sqrt(5 - sqrt(17))/2 + 3/2),\n",
       " 2*atan(-sqrt(6)*sqrt(sqrt(17) + 5)/2 + 3/2 + sqrt(17)/2)]"
      ]
     },
     "execution_count": 6,
     "metadata": {},
     "output_type": "execute_result"
    }
   ],
   "source": [
    "solve(pro, x)"
   ]
  },
  {
   "cell_type": "markdown",
   "id": "05e47a9a",
   "metadata": {},
   "source": [
    "*Находим период функции*"
   ]
  },
  {
   "cell_type": "code",
   "execution_count": 7,
   "id": "3b569aad",
   "metadata": {},
   "outputs": [
    {
     "data": {
      "text/latex": [
       "$\\displaystyle 2 \\pi$"
      ],
      "text/plain": [
       "2*pi"
      ]
     },
     "execution_count": 7,
     "metadata": {},
     "output_type": "execute_result"
    }
   ],
   "source": [
    "periodicity(function, x)"
   ]
  },
  {
   "cell_type": "markdown",
   "id": "d7045a88",
   "metadata": {},
   "source": [
    "# 2. Нахождение интервалов, на которых функция возрастает"
   ]
  },
  {
   "cell_type": "code",
   "execution_count": 8,
   "id": "273be8be",
   "metadata": {},
   "outputs": [
    {
     "data": {
      "text/latex": [
       "$\\displaystyle 0 \\leq x \\wedge x \\leq 2 \\pi \\wedge \\left(x = 0 \\vee x = \\frac{3 \\pi}{4} \\vee x = \\pi \\vee x = \\frac{7 \\pi}{4}\\right)$"
      ],
      "text/plain": [
       "(0 <= x) & (x <= 2*pi) & (Eq(x, 0) | Eq(x, pi) | Eq(x, 3*pi/4) | Eq(x, 7*pi/4))"
      ]
     },
     "execution_count": 8,
     "metadata": {},
     "output_type": "execute_result"
    }
   ],
   "source": [
    "solve([x >=0, x <= periodicity(function, x), function], x)"
   ]
  },
  {
   "cell_type": "markdown",
   "id": "b731e2e6",
   "metadata": {},
   "source": [
    "# 3. Нахождение интервалов, на которых функция убывает"
   ]
  },
  {
   "cell_type": "code",
   "execution_count": 9,
   "id": "c107371d",
   "metadata": {},
   "outputs": [
    {
     "data": {
      "text/latex": [
       "$\\displaystyle \\left(x = 0 \\vee x = \\frac{3 \\pi}{4} \\vee x = \\pi \\vee x = \\frac{7 \\pi}{4}\\right) \\wedge -\\infty < x \\wedge x < 0$"
      ],
      "text/plain": [
       "(-oo < x) & (x < 0) & (Eq(x, 0) | Eq(x, pi) | Eq(x, 3*pi/4) | Eq(x, 7*pi/4))"
      ]
     },
     "execution_count": 9,
     "metadata": {},
     "output_type": "execute_result"
    }
   ],
   "source": [
    "solve([x <0, x <= periodicity(function, x), function], x)"
   ]
  },
  {
   "cell_type": "markdown",
   "id": "11459ba7",
   "metadata": {},
   "source": [
    "## 4. График функции\n"
   ]
  },
  {
   "cell_type": "markdown",
   "id": "8277e1ef",
   "metadata": {},
   "source": [
    "*синим - исходная, оранжевым - производная*"
   ]
  },
  {
   "cell_type": "code",
   "execution_count": 10,
   "id": "fe93235c",
   "metadata": {},
   "outputs": [
    {
     "data": {
      "image/png": "[encoded data removed]",
      "text/plain": [
       "<Figure size 640x480 with 1 Axes>"
      ]
     },
     "metadata": {},
     "output_type": "display_data"
    }
   ],
   "source": [
    "graf = plot(function, pro)"
   ]
  },
  {
   "cell_type": "markdown",
   "id": "a3a0a67a",
   "metadata": {},
   "source": [
    "# 5. Вычисление вершины:"
   ]
  },
  {
   "cell_type": "code",
   "execution_count": 11,
   "id": "a6f9362f",
   "metadata": {},
   "outputs": [
    {
     "name": "stdout",
     "output_type": "stream",
     "text": [
      "x = -pi/4, y = 0\n",
      "x = -1, y = 0\n",
      "\n",
      "x = 3*pi/4, y = 0\n",
      "x = 2, y = 0\n",
      "\n",
      "x = -2*atan(-3/2 + sqrt(6)*sqrt(5 - sqrt(17))/2 + sqrt(17)/2), y = -(-sin(2*atan(-3/2 + sqrt(6)*sqrt(5 - sqrt(17))/2 + sqrt(17)/2))/2 + cos(2*atan(-3/2 + sqrt(6)*sqrt(5 - sqrt(17))/2 + sqrt(17)/2))/2)**2*sin(2*atan(-3/2 + sqrt(6)*sqrt(5 - sqrt(17))/2 + sqrt(17)/2))\n",
      "x = -2, y = 0\n",
      "\n",
      "x = 2*atan(3/2 + sqrt(17)/2 + sqrt(6)*sqrt(sqrt(17) + 5)/2), y = (cos(2*atan(3/2 + sqrt(17)/2 + sqrt(6)*sqrt(sqrt(17) + 5)/2))/2 + sin(2*atan(3/2 + sqrt(17)/2 + sqrt(6)*sqrt(sqrt(17) + 5)/2))/2)**2*sin(2*atan(3/2 + sqrt(17)/2 + sqrt(6)*sqrt(sqrt(17) + 5)/2))\n",
      "x = 3, y = 0\n",
      "\n",
      "x = 2*atan(-sqrt(17)/2 + sqrt(6)*sqrt(5 - sqrt(17))/2 + 3/2), y = (cos(2*atan(-sqrt(17)/2 + sqrt(6)*sqrt(5 - sqrt(17))/2 + 3/2))/2 + sin(2*atan(-sqrt(17)/2 + sqrt(6)*sqrt(5 - sqrt(17))/2 + 3/2))/2)**2*sin(2*atan(-sqrt(17)/2 + sqrt(6)*sqrt(5 - sqrt(17))/2 + 3/2))\n",
      "x = 1, y = 0\n",
      "\n",
      "x = 2*atan(-sqrt(6)*sqrt(sqrt(17) + 5)/2 + 3/2 + sqrt(17)/2), y = (sin(2*atan(-sqrt(6)*sqrt(sqrt(17) + 5)/2 + 3/2 + sqrt(17)/2))/2 + cos(2*atan(-sqrt(6)*sqrt(sqrt(17) + 5)/2 + 3/2 + sqrt(17)/2))/2)**2*sin(2*atan(-sqrt(6)*sqrt(sqrt(17) + 5)/2 + 3/2 + sqrt(17)/2))\n",
      "x = 0, y = 0\n",
      "\n"
     ]
    }
   ],
   "source": [
    "for x in solve(pro, x):\n",
    "    y = (sin(x)/2 + cos(x)/2) ** 2 * sin(x)\n",
    "    print(f'x = {x}, y = {y}')\n",
    "    print(f'x = {round(x.evalf())}, y = {round(y.evalf())}')\n",
    "    print()"
   ]
  },
  {
   "cell_type": "markdown",
   "id": "597d2da3",
   "metadata": {},
   "source": [
    "# 6. Определить промежутки, на котором f>0"
   ]
  },
  {
   "cell_type": "code",
   "execution_count": 12,
   "id": "649ddc88",
   "metadata": {},
   "outputs": [
    {
     "data": {
      "text/latex": [
       "$\\displaystyle x > 0 \\wedge x < \\pi \\wedge x \\neq \\frac{3 \\pi}{4}$"
      ],
      "text/plain": [
       "(x > 0) & (x < pi) & Ne(x, 3*pi/4)"
      ]
     },
     "execution_count": 12,
     "metadata": {},
     "output_type": "execute_result"
    }
   ],
   "source": [
    "solve(function> 0)"
   ]
  },
  {
   "cell_type": "markdown",
   "id": "2cd0f380",
   "metadata": {},
   "source": [
    "# 7. Определить промежутки, на котором f < 0"
   ]
  },
  {
   "cell_type": "code",
   "execution_count": 13,
   "id": "c87be8ff",
   "metadata": {},
   "outputs": [
    {
     "data": {
      "text/latex": [
       "$\\displaystyle x > \\pi \\wedge x < 2 \\pi \\wedge x \\neq \\frac{7 \\pi}{4}$"
      ],
      "text/plain": [
       "(x > pi) & (x < 2*pi) & Ne(x, 7*pi/4)"
      ]
     },
     "execution_count": 13,
     "metadata": {},
     "output_type": "execute_result"
    }
   ],
   "source": [
    "solve(function < 0)"
   ]
  },
  {
   "cell_type": "code",
   "execution_count": null,
   "id": "67e6c74d",
   "metadata": {},
   "outputs": [],
   "source": []
  }
 ],
 "metadata": {
  "kernelspec": {
   "display_name": "Python 3 (ipykernel)",
   "language": "python",
   "name": "python3"
  },
  "language_info": {
   "codemirror_mode": {
    "name": "ipython",
    "version": 3
   },
   "file_extension": ".py",
   "mimetype": "text/x-python",
   "name": "python",
   "nbconvert_exporter": "python",
   "pygments_lexer": "ipython3",
   "version": "3.9.13"
  }
 },
 "nbformat": 4,
 "nbformat_minor": 5
}
